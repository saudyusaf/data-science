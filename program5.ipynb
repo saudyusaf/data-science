{
  "nbformat": 4,
  "nbformat_minor": 0,
  "metadata": {
    "colab": {
      "provenance": [],
      "authorship_tag": "ABX9TyOTt4bWjd6FO/QndtcIMDke",
      "include_colab_link": true
    },
    "kernelspec": {
      "name": "python3",
      "display_name": "Python 3"
    },
    "language_info": {
      "name": "python"
    }
  },
  "cells": [
    {
      "cell_type": "markdown",
      "metadata": {
        "id": "view-in-github",
        "colab_type": "text"
      },
      "source": [
        "<a href=\"https://colab.research.google.com/github/saudyusaf/data-science/blob/main/program5.ipynb\" target=\"_parent\"><img src=\"https://colab.research.google.com/assets/colab-badge.svg\" alt=\"Open In Colab\"/></a>"
      ]
    },
    {
      "cell_type": "code",
      "execution_count": 1,
      "metadata": {
        "colab": {
          "base_uri": "https://localhost:8080/"
        },
        "id": "EwXGxDekci1i",
        "outputId": "27e45f28-cf13-49c1-a1bb-73bd491c5c3b"
      },
      "outputs": [
        {
          "output_type": "stream",
          "name": "stdout",
          "text": [
            "Matrix A:\n",
            "[[ 2  1 -2]\n",
            " [ 3  0  1]\n",
            " [ 1  1 -1]]\n",
            "Vector b:\n",
            "[-3  5 -2]\n",
            "Solution for X:\n",
            "[ 1. -1.  2.]\n"
          ]
        }
      ],
      "source": [
        "\n",
        "\n",
        "import numpy as np\n",
        "A = np.array([[2, 1,-2],[3,0,1],[1,1,-1]])\n",
        "b = np.array([-3,5,-2])\n",
        "X = np.linalg.solve(A, b)\n",
        "print(\"Matrix A:\")\n",
        "print(A)\n",
        "print(\"Vector b:\")\n",
        "print(b)\n",
        "print(\"Solution for X:\")\n",
        "print(X)\n",
        ""
      ]
    }
  ]
}