{
  "nbformat": 4,
  "nbformat_minor": 0,
  "metadata": {
    "colab": {
      "provenance": [],
      "authorship_tag": "ABX9TyO9SeWqamimzsWsRWBCZYag",
      "include_colab_link": true
    },
    "kernelspec": {
      "name": "python3",
      "display_name": "Python 3"
    },
    "language_info": {
      "name": "python"
    }
  },
  "cells": [
    {
      "cell_type": "markdown",
      "metadata": {
        "id": "view-in-github",
        "colab_type": "text"
      },
      "source": [
        "<a href=\"https://colab.research.google.com/github/saudyusaf/data-science/blob/main/program4.ipynb\" target=\"_parent\"><img src=\"https://colab.research.google.com/assets/colab-badge.svg\" alt=\"Open In Colab\"/></a>"
      ]
    },
    {
      "cell_type": "code",
      "execution_count": 1,
      "metadata": {
        "colab": {
          "base_uri": "https://localhost:8080/"
        },
        "id": "hFJPn9ldbu0C",
        "outputId": "e6dd1482-78d7-4e8b-be76-7f3be6f7210c"
      },
      "outputs": [
        {
          "output_type": "stream",
          "name": "stdout",
          "text": [
            "Original 2D array:\n",
            " [[ 1  2  3  4]\n",
            " [ 5  6  7  8]\n",
            " [ 9 10 11 12]\n",
            " [13 14 15 16]]\n",
            "Elements excluding the first row:\n",
            " [[ 5  6  7  8]\n",
            " [ 9 10 11 12]\n",
            " [13 14 15 16]]\n",
            "Elements excluding the last column:\n",
            " [[ 1  2  3]\n",
            " [ 5  6  7]\n",
            " [ 9 10 11]\n",
            " [13 14 15]]\n",
            "Elements of the 1st and 2nd column in the 2nd and 3rd row:\n",
            " [[ 5  6]\n",
            " [ 9 10]]\n",
            "Elements of the 2nd and 3rd column:\n",
            " [[ 2  3]\n",
            " [ 6  7]\n",
            " [10 11]\n",
            " [14 15]]\n",
            "2nd and 3rd element of the 1st row:\n",
            " [2 3]\n",
            "Elements from indices 4 to 10 in descending order:\n",
            " [11 10  9  8  7  6  5]\n"
          ]
        }
      ],
      "source": [
        "\n",
        "import numpy as np\n",
        "\n",
        "two_dimensional_array = np.array([[1, 2, 3, 4],\n",
        "                                   [5, 6, 7, 8],\n",
        "                                   [9, 10, 11, 12],\n",
        "                                   [13, 14, 15, 16]])\n",
        "\n",
        "excluding_first_row = two_dimensional_array[1:]\n",
        "excluding_last_column = two_dimensional_array[:, :-1]\n",
        "column_1_2_in_row_2_3 = two_dimensional_array[1:3, 0:2]\n",
        "column_2_3 = two_dimensional_array[:, 1:3]\n",
        "elements_2_3_in_first_row = two_dimensional_array[0, 1:3]\n",
        "descending_order = two_dimensional_array.ravel()[4:11][::-1]\n",
        "\n",
        "print(\"Original 2D array:\\n\", two_dimensional_array)\n",
        "print(\"Elements excluding the first row:\\n\", excluding_first_row)\n",
        "print(\"Elements excluding the last column:\\n\", excluding_last_column)\n",
        "print(\"Elements of the 1st and 2nd column in the 2nd and 3rd row:\\n\", column_1_2_in_row_2_3)\n",
        "print(\"Elements of the 2nd and 3rd column:\\n\", column_2_3)\n",
        "print(\"2nd and 3rd element of the 1st row:\\n\", elements_2_3_in_first_row)\n",
        "print(\"Elements from indices 4 to 10 in descending order:\\n\", descending_order)"
      ]
    }
  ]
}