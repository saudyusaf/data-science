{
  "nbformat": 4,
  "nbformat_minor": 0,
  "metadata": {
    "colab": {
      "provenance": [],
      "authorship_tag": "ABX9TyMR4Sm5HfoAqbxbNiermFwD",
      "include_colab_link": true
    },
    "kernelspec": {
      "name": "python3",
      "display_name": "Python 3"
    },
    "language_info": {
      "name": "python"
    }
  },
  "cells": [
    {
      "cell_type": "markdown",
      "metadata": {
        "id": "view-in-github",
        "colab_type": "text"
      },
      "source": [
        "<a href=\"https://colab.research.google.com/github/saudyusaf/data-science/blob/main/program3.ipynb\" target=\"_parent\"><img src=\"https://colab.research.google.com/assets/colab-badge.svg\" alt=\"Open In Colab\"/></a>"
      ]
    },
    {
      "cell_type": "code",
      "execution_count": 1,
      "metadata": {
        "colab": {
          "base_uri": "https://localhost:8080/"
        },
        "id": "d1eXk42wbeUY",
        "outputId": "adaa45d2-2009-4c90-907c-00cfcf2b0b10"
      },
      "outputs": [
        {
          "output_type": "stream",
          "name": "stdout",
          "text": [
            "Matrix X is:\n",
            " [[1 2]\n",
            " [3 4]]\n",
            "Matrix Y is:\n",
            " [[5 6]\n",
            " [7 8]]\n",
            "X^2 =\n",
            " [[ 1  4]\n",
            " [ 9 16]]\n",
            "X^2 + 2*Y is\n",
            " [[11 16]\n",
            " [23 32]]\n"
          ]
        }
      ],
      "source": [
        "\n",
        "\n",
        "import numpy as np\n",
        "\n",
        "X = np.array([[1, 2], [3, 4]])\n",
        "Y = np.array([[5, 6], [7, 8]])\n",
        "\n",
        "print(\"Matrix X is:\\n\", X)\n",
        "print(\"Matrix Y is:\\n\", Y)\n",
        "\n",
        "a = np.power(X, 2)\n",
        "print(\"X^2 =\\n\", a)\n",
        "\n",
        "result = a + 2 * Y\n",
        "print(\"X^2 + 2*Y is\\n\", result)\n",
        "\n",
        "\n"
      ]
    }
  ]
}