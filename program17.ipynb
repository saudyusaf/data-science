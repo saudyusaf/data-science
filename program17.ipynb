{
  "nbformat": 4,
  "nbformat_minor": 0,
  "metadata": {
    "colab": {
      "provenance": [],
      "authorship_tag": "ABX9TyOnfTtR2h3i14G2q78RzcCm",
      "include_colab_link": true
    },
    "kernelspec": {
      "name": "python3",
      "display_name": "Python 3"
    },
    "language_info": {
      "name": "python"
    }
  },
  "cells": [
    {
      "cell_type": "markdown",
      "metadata": {
        "id": "view-in-github",
        "colab_type": "text"
      },
      "source": [
        "<a href=\"https://colab.research.google.com/github/saudyusaf/data-science/blob/main/program17.ipynb\" target=\"_parent\"><img src=\"https://colab.research.google.com/assets/colab-badge.svg\" alt=\"Open In Colab\"/></a>"
      ]
    },
    {
      "cell_type": "code",
      "execution_count": 2,
      "metadata": {
        "colab": {
          "base_uri": "https://localhost:8080/"
        },
        "id": "0QWQI-LgXQi0",
        "outputId": "a43f6014-4f45-49e2-cb01-9e7c21bd25b7"
      },
      "outputs": [
        {
          "output_type": "stream",
          "name": "stdout",
          "text": [
            "   Hours  Scores\n",
            "0    2.5      21\n",
            "1    5.1      47\n",
            "2    3.2      27\n",
            "3    8.5      75\n",
            "4    3.5      30\n",
            "           Hours     Scores\n",
            "count  25.000000  25.000000\n",
            "mean    5.012000  51.480000\n",
            "std     2.525094  25.286887\n",
            "min     1.100000  17.000000\n",
            "25%     2.700000  30.000000\n",
            "50%     4.800000  47.000000\n",
            "75%     7.400000  75.000000\n",
            "max     9.200000  95.000000\n",
            "<class 'pandas.core.frame.DataFrame'>\n",
            "RangeIndex: 25 entries, 0 to 24\n",
            "Data columns (total 2 columns):\n",
            " #   Column  Non-Null Count  Dtype  \n",
            "---  ------  --------------  -----  \n",
            " 0   Hours   25 non-null     float64\n",
            " 1   Scores  25 non-null     int64  \n",
            "dtypes: float64(1), int64(1)\n",
            "memory usage: 532.0 bytes\n",
            "None\n"
          ]
        }
      ],
      "source": [
        "# Import necessary libraries\n",
        "import numpy as np #Provides support for numerical operations, particularly arrays.\n",
        "import pandas as pd #for handling and analyzing data in DataFrames, making it easy to load, manipulate, and process datasets.\n",
        "import matplotlib.pyplot as plt\n",
        "from sklearn.model_selection import train_test_split\n",
        "from sklearn.linear_model import LinearRegression\n",
        "from sklearn.metrics import mean_squared_error, r2_score\n",
        "         # LinearRegression: A class in sklearn.linear_model that enables fitting a linear model to data.\n",
        "         #mean_squared_error, r2_score: Functions in sklearn.metrics used to evaluate model performance.\n",
        "# Loads the student_scores.csv dataset into a pandas DataFrame named student.\n",
        "student = pd.read_csv('/content/student_scores.csv')\n",
        "# Display the first few rows and basic info about the dataset\n",
        "print(student.head())  #Displays the first 5 rows of the dataset\n",
        "print(student.describe()) #Provides summary statistics (like mean, min, max, etc.)\n",
        "print(student.info()) #information about each column, including the data type and non-null count\n",
        ""
      ]
    },
    {
      "cell_type": "code",
      "source": [
        "\n",
        "\n",
        "# Separate the features (No. of hours) and target (Score)\n",
        "Xax = student.iloc[:, 0]   # Selects the first column (No. of hours) as the independent variable (Xax).\n",
        "Yax = student.iloc[:, 1]   # Selects the second column (Score) as the dependent variable (Yax).\n",
        "\n",
        "# Visualize the data with a scatter plot\n",
        "plt.scatter(Xax, Yax)\n",
        "plt.xlabel(\"No. of hours\")\n",
        "plt.ylabel(\"Score\")\n",
        "53\n",
        "\n",
        "plt.title(\"Student scores\")\n",
        "plt.show()"
      ],
      "metadata": {
        "colab": {
          "base_uri": "https://localhost:8080/",
          "height": 472
        },
        "id": "blc2_iUuXpUs",
        "outputId": "9a710da4-b322-48e6-bc1a-1d42adf3bc1a"
      },
      "execution_count": 3,
      "outputs": [
        {
          "output_type": "display_data",
          "data": {
            "text/plain": [
              "<Figure size 640x480 with 1 Axes>"
            ],
            "image/png": "[encoded data removed]"
          },
          "metadata": {}
        }
      ]
    },
    {
      "cell_type": "code",
      "source": [
        "\n",
        "# Prepare data for training and testing\n",
        "x = student.iloc[:,:-1] #Selects all columns except the last one as the independent variable (hours studied).\n",
        "y = student.iloc[:, 1]     # Selects the last column as the dependent variable (score).\n",
        "print('x values :\\n', x)\n",
        "print('y values :\\n', y)\n",
        ""
      ],
      "metadata": {
        "colab": {
          "base_uri": "https://localhost:8080/"
        },
        "id": "0u6RYZNkXuK0",
        "outputId": "31b62277-8d4c-465f-ec07-4c94c0dc146f"
      },
      "execution_count": 4,
      "outputs": [
        {
          "output_type": "stream",
          "name": "stdout",
          "text": [
            "x values :\n",
            "     Hours\n",
            "0     2.5\n",
            "1     5.1\n",
            "2     3.2\n",
            "3     8.5\n",
            "4     3.5\n",
            "5     1.5\n",
            "6     9.2\n",
            "7     5.5\n",
            "8     8.3\n",
            "9     2.7\n",
            "10    7.7\n",
            "11    5.9\n",
            "12    4.5\n",
            "13    3.3\n",
            "14    1.1\n",
            "15    8.9\n",
            "16    2.5\n",
            "17    1.9\n",
            "18    6.1\n",
            "19    7.4\n",
            "20    2.7\n",
            "21    4.8\n",
            "22    3.8\n",
            "23    6.9\n",
            "24    7.8\n",
            "y values :\n",
            " 0     21\n",
            "1     47\n",
            "2     27\n",
            "3     75\n",
            "4     30\n",
            "5     20\n",
            "6     88\n",
            "7     60\n",
            "8     81\n",
            "9     25\n",
            "10    85\n",
            "11    62\n",
            "12    41\n",
            "13    42\n",
            "14    17\n",
            "15    95\n",
            "16    30\n",
            "17    24\n",
            "18    67\n",
            "19    69\n",
            "20    30\n",
            "21    54\n",
            "22    35\n",
            "23    76\n",
            "24    86\n",
            "Name: Scores, dtype: int64\n"
          ]
        }
      ]
    },
    {
      "cell_type": "code",
      "source": [
        "\n",
        "\n",
        "# Split the dataset into training and testing sets\n",
        "x_train, x_test, y_train, y_test = train_test_split(x, y, test_size=0.2,\n",
        "random_state=42)\n",
        "\n",
        "# Train the Linear Regression model\n",
        "regressor = LinearRegression() #Initializes the linear regression model.\n",
        "regressor.fit(x_train, y_train)    # Trains (fits) the model on the training data, finding the best- # fit line that predicts scores based on hours studied.\n",
        "# Output the intercept and coefficient\n",
        "print('INTERCEPT = ', regressor.intercept_) #Retrieves the y-intercept of the regression line.\n",
        "print('COEFFICIENT = ', regressor.coef_[0]) #Retrieves the slope (coefficient) of the regression line\n",
        "#These values represent the linear equation: Score = (Coefficient * Hours) + Intercept"
      ],
      "metadata": {
        "colab": {
          "base_uri": "https://localhost:8080/"
        },
        "id": "zs4DPn6YXzhS",
        "outputId": "12b02efd-c34e-4619-afeb-cdf034a392f6"
      },
      "execution_count": 5,
      "outputs": [
        {
          "output_type": "stream",
          "name": "stdout",
          "text": [
            "INTERCEPT =  2.826892353899737\n",
            "COEFFICIENT =  9.682078154455697\n"
          ]
        }
      ]
    },
    {
      "cell_type": "code",
      "source": [
        "\n",
        "# Make predictions on the test set\n",
        "y_pred = regressor.predict(x_test) #Uses the trained model to predict scores (y_pred) for\n",
        " # the test set based on hours studied in x_test.\n",
        "# Print the actual vs predicted values\n",
        "print(\"Actual vs Predicted values:\")\n",
        "for actual, predicted in zip(y_test, y_pred):\n",
        "    print(\"Actual value:\", actual, \"Predicted value:\", predicted)\n",
        "  #Iterates over each actual and predicted value pair, printing them for comparison."
      ],
      "metadata": {
        "colab": {
          "base_uri": "https://localhost:8080/"
        },
        "id": "b7wraLJ7X2ir",
        "outputId": "0c88274c-09de-4c19-acf2-6e6f8e878c3e"
      },
      "execution_count": 6,
      "outputs": [
        {
          "output_type": "stream",
          "name": "stdout",
          "text": [
            "Actual vs Predicted values:\n",
            "Actual value: 81 Predicted value: 83.18814103588203\n",
            "Actual value: 30 Predicted value: 27.03208774003898\n",
            "Actual value: 21 Predicted value: 27.03208774003898\n",
            "Actual value: 76 Predicted value: 69.63323161964405\n",
            "Actual value: 62 Predicted value: 59.951153465188355\n"
          ]
        }
      ]
    },
    {
      "cell_type": "code",
      "source": [
        "\n",
        "# Calculate and print the number of mislabeled points\n",
        "mislabeled_points = np.sum(np.round(y_test) != np.round(y_pred))\n",
        "#Counts the number of mismatched points between the actual (y_test) and predicted (y_pred) values\n",
        "#(after rounding to avoid small numerical differences).\n",
        "print(\"Number of mislabeled points from test data set:\", mislabeled_points)"
      ],
      "metadata": {
        "colab": {
          "base_uri": "https://localhost:8080/"
        },
        "id": "n6LlHj3tX5AD",
        "outputId": "6c1f2e7d-f6ac-4a04-ac18-0450288ec736"
      },
      "execution_count": 7,
      "outputs": [
        {
          "output_type": "stream",
          "name": "stdout",
          "text": [
            "Number of mislabeled points from test data set: 5\n"
          ]
        }
      ]
    },
    {
      "cell_type": "code",
      "source": [
        "\n",
        "\n",
        "# Evaluate the model performance\n",
        "mse = mean_squared_error(y_test, y_pred) #Calculates the Mean Squared Error (MSE) between #actual\n",
        "\n",
        "r2 = r2_score(y_test, y_pred)# Calculates the R-squared score, which indicates how well the model fits #the\n",
        "\n",
        "print(\"Mean Squared Error:\", mse)\n",
        "print(\"R-squared:\", r2)"
      ],
      "metadata": {
        "colab": {
          "base_uri": "https://localhost:8080/"
        },
        "id": "KFswGTPkX7yT",
        "outputId": "199458f4-0a9f-43ef-ef4b-13bcf7f193e8"
      },
      "execution_count": 8,
      "outputs": [
        {
          "output_type": "stream",
          "name": "stdout",
          "text": [
            "Mean Squared Error: 18.943211722315272\n",
            "R-squared: 0.9678055545167994\n"
          ]
        }
      ]
    }
  ]
}