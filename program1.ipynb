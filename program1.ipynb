{
  "nbformat": 4,
  "nbformat_minor": 0,
  "metadata": {
    "colab": {
      "provenance": [],
      "authorship_tag": "ABX9TyMyt51BlpsILe1yq7G9Gbu3",
      "include_colab_link": true
    },
    "kernelspec": {
      "name": "python3",
      "display_name": "Python 3"
    },
    "language_info": {
      "name": "python"
    }
  },
  "cells": [
    {
      "cell_type": "markdown",
      "metadata": {
        "id": "view-in-github",
        "colab_type": "text"
      },
      "source": [
        "<a href=\"https://colab.research.google.com/github/saudyusaf/data-science/blob/main/program1.ipynb\" target=\"_parent\"><img src=\"https://colab.research.google.com/assets/colab-badge.svg\" alt=\"Open In Colab\"/></a>"
      ]
    },
    {
      "cell_type": "code",
      "metadata": {
        "colab": {
          "base_uri": "https://localhost:8080/"
        },
        "id": "4419a0ce",
        "outputId": "58d338fb-543b-41cb-ddb1-5465c039aae9"
      },
      "source": [
        "import numpy as np\n",
        "\n",
        "array_from_list = np.array([1, 2, 3, 4, 5])\n",
        "print(\"Array from list:\", array_from_list)\n",
        "\n",
        "array_with_range = np.arange(10)\n",
        "print(\"Array with range:\", array_with_range)\n",
        "\n",
        "zeros_array = np.zeros((3, 3))\n",
        "print(\"Array of zeros:\\\\n\", zeros_array)\n",
        "\n",
        "ones_array = np.ones((2, 4))\n",
        "print(\"Array of ones:\\\\n\", ones_array)"
      ],
      "execution_count": 4,
      "outputs": [
        {
          "output_type": "stream",
          "name": "stdout",
          "text": [
            "Array from list: [1 2 3 4 5]\n",
            "Array with range: [0 1 2 3 4 5 6 7 8 9]\n",
            "Array of zeros:\\n [[0. 0. 0.]\n",
            " [0. 0. 0.]\n",
            " [0. 0. 0.]]\n",
            "Array of ones:\\n [[1. 1. 1. 1.]\n",
            " [1. 1. 1. 1.]]\n"
          ]
        }
      ]
    },
    {
      "cell_type": "code",
      "metadata": {
        "colab": {
          "base_uri": "https://localhost:8080/"
        },
        "id": "30ff3db2",
        "outputId": "96bf77f1-2002-4616-e00d-bcd2074683d4"
      },
      "source": [
        "import numpy as np\n",
        "\n",
        "a = np.array([1, 2, 3])\n",
        "b = np.array([4, 5, 6])\n",
        "\n",
        "add_result = np.add(a, b)\n",
        "print(\"Addition:\", add_result)\n",
        "\n",
        "sub_result = np.subtract(a, b)\n",
        "print(\"Subtraction:\", sub_result)\n",
        "\n",
        "mul_result = np.multiply(a, b)\n",
        "print(\"Multiplication:\\n\", mul_result)\n",
        "\n",
        "div_result = np.divide(a, b)\n",
        "print(\"Division:\\n\", div_result)"
      ],
      "execution_count": 5,
      "outputs": [
        {
          "output_type": "stream",
          "name": "stdout",
          "text": [
            "Addition: [5 7 9]\n",
            "Subtraction: [-3 -3 -3]\n",
            "Multiplication:\n",
            " [ 4 10 18]\n",
            "Division:\n",
            " [0.25 0.4  0.5 ]\n"
          ]
        }
      ]
    },
    {
      "cell_type": "code",
      "metadata": {
        "colab": {
          "base_uri": "https://localhost:8080/"
        },
        "id": "ff85983d",
        "outputId": "b3641575-f00f-4e41-d3f7-0a48f173d8fb"
      },
      "source": [
        "import numpy as np\n",
        "\n",
        "array = np.arange(12)\n",
        "print(\"Original array:\", array)\n",
        "\n",
        "reshaped_array = array.reshape((3, 4))\n",
        "print(\"Reshaped to 3x4:\\\\n\", reshaped_array)\n",
        "\n",
        "reshaped_array_3d = array.reshape((2, 3, 2))\n",
        "print(\"Reshaped to 2x3x2:\\\\n\", reshaped_array_3d)"
      ],
      "execution_count": 6,
      "outputs": [
        {
          "output_type": "stream",
          "name": "stdout",
          "text": [
            "Original array: [ 0  1  2  3  4  5  6  7  8  9 10 11]\n",
            "Reshaped to 3x4:\\n [[ 0  1  2  3]\n",
            " [ 4  5  6  7]\n",
            " [ 8  9 10 11]]\n",
            "Reshaped to 2x3x2:\\n [[[ 0  1]\n",
            "  [ 2  3]\n",
            "  [ 4  5]]\n",
            "\n",
            " [[ 6  7]\n",
            "  [ 8  9]\n",
            "  [10 11]]]\n"
          ]
        }
      ]
    },
    {
      "cell_type": "code",
      "metadata": {
        "colab": {
          "base_uri": "https://localhost:8080/"
        },
        "id": "4771c9e8",
        "outputId": "3ec038a7-edb7-4717-8b2c-a22dd9af5d45"
      },
      "source": [
        "import numpy as np\n",
        "\n",
        "array_2d = np.array([[1, 2, 3], [4, 5, 6], [7, 8, 9]])\n",
        "print(\"2D Array:\\\\n\", array_2d)\n",
        "\n",
        "element = array_2d[1, 2]\n",
        "print(\"Element at (1, 2):\", element)"
      ],
      "execution_count": 7,
      "outputs": [
        {
          "output_type": "stream",
          "name": "stdout",
          "text": [
            "2D Array:\\n [[1 2 3]\n",
            " [4 5 6]\n",
            " [7 8 9]]\n",
            "Element at (1, 2): 6\n"
          ]
        }
      ]
    },
    {
      "cell_type": "code",
      "metadata": {
        "colab": {
          "base_uri": "https://localhost:8080/"
        },
        "id": "91be49bd",
        "outputId": "5c670c97-6e71-4786-9cea-1c8007f97961"
      },
      "source": [
        "import numpy as np\n",
        "\n",
        "array = np.array([1, 2, 3, 4, 5, 6, 7, 8, 9, 10])\n",
        "\n",
        "mean = np.mean(array)\n",
        "print(\"Mean:\", mean)\n",
        "\n",
        "median = np.median(array)\n",
        "print(\"Median:\", median)\n",
        "\n",
        "std_dev = np.std(array)\n",
        "print(\"Standard Deviation:\", std_dev)\n",
        "\n",
        "min_val = np.min(array)\n",
        "max_val = np.max(array)\n",
        "print(\"Minimum value:\", min_val)\n",
        "print(\"Maximum value:\", max_val)"
      ],
      "execution_count": 8,
      "outputs": [
        {
          "output_type": "stream",
          "name": "stdout",
          "text": [
            "Mean: 5.5\n",
            "Median: 5.5\n",
            "Standard Deviation: 2.8722813232690143\n",
            "Minimum value: 1\n",
            "Maximum value: 10\n"
          ]
        }
      ]
    }
  ]
}