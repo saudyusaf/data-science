{
  "nbformat": 4,
  "nbformat_minor": 0,
  "metadata": {
    "colab": {
      "provenance": [],
      "authorship_tag": "ABX9TyNH8lrK13B08PCDLgbtjodb",
      "include_colab_link": true
    },
    "kernelspec": {
      "name": "python3",
      "display_name": "Python 3"
    },
    "language_info": {
      "name": "python"
    }
  },
  "cells": [
    {
      "cell_type": "markdown",
      "metadata": {
        "id": "view-in-github",
        "colab_type": "text"
      },
      "source": [
        "<a href=\"https://colab.research.google.com/github/saudyusaf/data-science/blob/main/program18.ipynb\" target=\"_parent\"><img src=\"https://colab.research.google.com/assets/colab-badge.svg\" alt=\"Open In Colab\"/></a>"
      ]
    },
    {
      "cell_type": "code",
      "execution_count": 3,
      "metadata": {
        "colab": {
          "base_uri": "https://localhost:8080/"
        },
        "id": "8f6rN3LgYKG9",
        "outputId": "a4fd3fa4-d746-4811-aa6c-c5b862117371"
      },
      "outputs": [
        {
          "output_type": "stream",
          "name": "stdout",
          "text": [
            "   Unnamed: 0     TV  Radio  Newspaper  Sales\n",
            "0           1  230.1   37.8       69.2   22.1\n",
            "1           2   44.5   39.3       45.1   10.4\n",
            "2           3   17.2   45.9       69.3    9.3\n",
            "3           4  151.5   41.3       58.5   18.5\n",
            "4           5  180.8   10.8       58.4   12.9\n",
            "       Unnamed: 0          TV       Radio   Newspaper       Sales\n",
            "count  200.000000  200.000000  200.000000  200.000000  200.000000\n",
            "mean   100.500000  147.042500   23.264000   30.554000   14.022500\n",
            "std     57.879185   85.854236   14.846809   21.778621    5.217457\n",
            "min      1.000000    0.700000    0.000000    0.300000    1.600000\n",
            "25%     50.750000   74.375000    9.975000   12.750000   10.375000\n",
            "50%    100.500000  149.750000   22.900000   25.750000   12.900000\n",
            "75%    150.250000  218.825000   36.525000   45.100000   17.400000\n",
            "max    200.000000  296.400000   49.600000  114.000000   27.000000\n",
            "<class 'pandas.core.frame.DataFrame'>\n",
            "RangeIndex: 200 entries, 0 to 199\n",
            "Data columns (total 5 columns):\n",
            " #   Column      Non-Null Count  Dtype  \n",
            "---  ------      --------------  -----  \n",
            " 0   Unnamed: 0  200 non-null    int64  \n",
            " 1   TV          200 non-null    float64\n",
            " 2   Radio       200 non-null    float64\n",
            " 3   Newspaper   200 non-null    float64\n",
            " 4   Sales       200 non-null    float64\n",
            "dtypes: float64(4), int64(1)\n",
            "memory usage: 7.9 KB\n",
            "None\n"
          ]
        }
      ],
      "source": [
        "import pandas as pd\n",
        "import numpy as np\n",
        "import matplotlib.pyplot as plt\n",
        "from sklearn.model_selection import train_test_split\n",
        "from sklearn.linear_model import LinearRegression\n",
        "from sklearn import metrics\n",
        "import pandas as pd\n",
        "# Load the dataset\n",
        "advertising = pd.read_csv('/content/Advertising.csv')\n",
        "# Display the first few rows and basic info about the dataset\n",
        "print(advertising.head())\n",
        "print(advertising.describe())\n",
        "print(advertising.info())"
      ]
    },
    {
      "cell_type": "code",
      "source": [
        "\n",
        "# Separate the features (independent variables) and the target variable (dependent variable)\n",
        "print(\"Feature values:\")\n",
        "x = advertising.iloc[:, :-1]  # Selects all columns except the last one as features\n",
        "print(x)"
      ],
      "metadata": {
        "colab": {
          "base_uri": "https://localhost:8080/"
        },
        "id": "FQlmCBCsYgiT",
        "outputId": "c4975631-ee23-4984-b072-fc27c4ff7a27"
      },
      "execution_count": 4,
      "outputs": [
        {
          "output_type": "stream",
          "name": "stdout",
          "text": [
            "Feature values:\n",
            "     Unnamed: 0     TV  Radio  Newspaper\n",
            "0             1  230.1   37.8       69.2\n",
            "1             2   44.5   39.3       45.1\n",
            "2             3   17.2   45.9       69.3\n",
            "3             4  151.5   41.3       58.5\n",
            "4             5  180.8   10.8       58.4\n",
            "..          ...    ...    ...        ...\n",
            "195         196   38.2    3.7       13.8\n",
            "196         197   94.2    4.9        8.1\n",
            "197         198  177.0    9.3        6.4\n",
            "198         199  283.6   42.0       66.2\n",
            "199         200  232.1    8.6        8.7\n",
            "\n",
            "[200 rows x 4 columns]\n"
          ]
        }
      ]
    },
    {
      "cell_type": "code",
      "source": [
        "\n",
        "print(\"Target variable values:\")\n",
        "y = advertising.iloc[:, -1]   # Selects the last column as the target\n",
        "\n",
        "print(y)"
      ],
      "metadata": {
        "colab": {
          "base_uri": "https://localhost:8080/"
        },
        "id": "wSX-FdYgYkQ8",
        "outputId": "25a0e7db-0881-4648-d6b6-41a842448890"
      },
      "execution_count": 5,
      "outputs": [
        {
          "output_type": "stream",
          "name": "stdout",
          "text": [
            "Target variable values:\n",
            "0      22.1\n",
            "1      10.4\n",
            "2       9.3\n",
            "3      18.5\n",
            "4      12.9\n",
            "       ... \n",
            "195     7.6\n",
            "196     9.7\n",
            "197    12.8\n",
            "198    25.5\n",
            "199    13.4\n",
            "Name: Sales, Length: 200, dtype: float64\n"
          ]
        }
      ]
    },
    {
      "cell_type": "code",
      "source": [
        "\n",
        "# Split the dataset into training and testing sets (70% training, 30% testing)\n",
        "x_train, x_test, y_train, y_test = train_test_split(x, y,\n",
        "test_size=0.3, random_state=42)\n",
        "\n",
        "# Train the Multiple Linear Regression model\n",
        "regressor = LinearRegression()\n",
        "regressor.fit(x_train, y_train)\n",
        "# Output the intercept and coefficients of the regression model\n",
        "print(\"Intercept:\", regressor.intercept_)\n",
        "print(\"Coefficients:\", regressor.coef_)\n",
        ""
      ],
      "metadata": {
        "colab": {
          "base_uri": "https://localhost:8080/"
        },
        "id": "ZKHmpz4OYlDa",
        "outputId": "8b17acc8-c088-474b-c700-f7f578995cb8"
      },
      "execution_count": 6,
      "outputs": [
        {
          "output_type": "stream",
          "name": "stdout",
          "text": [
            "Intercept: 2.6979623819843823\n",
            "Coefficients: [1.01434702e-04 4.40581043e-02 1.99286432e-01 6.91829845e-03]\n"
          ]
        }
      ]
    },
    {
      "cell_type": "code",
      "source": [
        "\n",
        "# Make predictions on the test set\n",
        "y_pred = regressor.predict(x_test)\n",
        "# Print actual vs predicted values for the test set\n",
        "print(\"Actual vs Predicted values:\")\n",
        "for actual, predicted in zip(y_test, y_pred):\n",
        "    print(\"Actual value:\", actual, \"Predicted value:\", predicted)"
      ],
      "metadata": {
        "colab": {
          "base_uri": "https://localhost:8080/"
        },
        "id": "mn6p_ntgYrPT",
        "outputId": "1a99f2ba-613a-4321-cd0c-194c4d8db3bb"
      },
      "execution_count": 7,
      "outputs": [
        {
          "output_type": "stream",
          "name": "stdout",
          "text": [
            "Actual vs Predicted values:\n",
            "Actual value: 16.9 Predicted value: 16.565817776073434\n",
            "Actual value: 22.4 Predicted value: 21.180479699816786\n",
            "Actual value: 21.4 Predicted value: 21.544402114689518\n",
            "Actual value: 7.3 Predicted value: 10.895946744550951\n",
            "Actual value: 24.7 Predicted value: 22.204221545892867\n",
            "Actual value: 12.6 Predicted value: 13.358111881438733\n",
            "Actual value: 22.3 Predicted value: 21.19371189401255\n",
            "Actual value: 8.4 Predicted value: 7.3572322307216735\n",
            "Actual value: 11.5 Predicted value: 13.282439424008283\n",
            "Actual value: 14.9 Predicted value: 15.119073554819247\n",
            "Actual value: 9.5 Predicted value: 9.010255271561872\n",
            "Actual value: 8.7 Predicted value: 6.533996518335079\n",
            "Actual value: 11.9 Predicted value: 14.310671572536906\n",
            "Actual value: 5.3 Predicted value: 8.967585803961683\n",
            "Actual value: 10.3 Predicted value: 9.465564463594141\n",
            "Actual value: 11.7 Predicted value: 12.012665380758934\n",
            "Actual value: 5.5 Predicted value: 8.911734611839382\n",
            "Actual value: 16.6 Predicted value: 16.16097699638327\n",
            "Actual value: 11.3 Predicted value: 10.294315980350827\n",
            "Actual value: 18.9 Predicted value: 18.720833490322878\n",
            "Actual value: 19.7 Predicted value: 19.772266144906062\n",
            "Actual value: 12.5 Predicted value: 13.7693956708532\n",
            "Actual value: 10.9 Predicted value: 12.500855069777685\n",
            "Actual value: 22.2 Predicted value: 21.535823347337054\n",
            "Actual value: 9.3 Predicted value: 7.604256552128691\n",
            "Actual value: 8.1 Predicted value: 5.60788292819435\n",
            "Actual value: 21.7 Predicted value: 20.91614465156283\n",
            "Actual value: 13.4 Predicted value: 11.80237377338182\n",
            "Actual value: 10.6 Predicted value: 9.083373673008932\n",
            "Actual value: 5.7 Predicted value: 8.516660646021476\n",
            "Actual value: 10.6 Predicted value: 12.166598613538554\n",
            "Actual value: 11.3 Predicted value: 9.960687171673559\n",
            "Actual value: 23.7 Predicted value: 21.7266473060045\n",
            "Actual value: 8.7 Predicted value: 12.777566334669157\n",
            "Actual value: 16.1 Predicted value: 18.106447337849524\n",
            "Actual value: 20.7 Predicted value: 20.075445058331084\n",
            "Actual value: 11.6 Predicted value: 14.265031771284198\n",
            "Actual value: 20.8 Predicted value: 20.94306380925208\n",
            "Actual value: 11.9 Predicted value: 10.845178288733957\n",
            "Actual value: 6.9 Predicted value: 4.379437790569285\n",
            "Actual value: 11.0 Predicted value: 9.511135473693674\n",
            "Actual value: 12.8 Predicted value: 12.413971836186146\n",
            "Actual value: 10.1 Predicted value: 10.164602635493688\n",
            "Actual value: 9.7 Predicted value: 8.08293204884865\n",
            "Actual value: 11.6 Predicted value: 13.165667100648466\n",
            "Actual value: 7.6 Predicted value: 5.233695483390324\n",
            "Actual value: 10.5 Predicted value: 9.282357071305139\n",
            "Actual value: 14.6 Predicted value: 14.084835057423993\n",
            "Actual value: 10.4 Predicted value: 8.6949688146995\n",
            "Actual value: 12.0 Predicted value: 11.659490208195477\n",
            "Actual value: 14.6 Predicted value: 15.720257433842773\n",
            "Actual value: 11.7 Predicted value: 11.638484666614389\n",
            "Actual value: 7.2 Predicted value: 13.345855398301156\n",
            "Actual value: 6.6 Predicted value: 11.156805902735005\n",
            "Actual value: 9.4 Predicted value: 6.337790806147455\n",
            "Actual value: 11.0 Predicted value: 9.759062646433422\n",
            "Actual value: 10.9 Predicted value: 9.423244920183382\n",
            "Actual value: 25.4 Predicted value: 24.25567017409606\n",
            "Actual value: 7.6 Predicted value: 7.702317782897607\n",
            "Actual value: 11.7 Predicted value: 12.152003425513067\n"
          ]
        }
      ]
    },
    {
      "cell_type": "code",
      "source": [
        "\n",
        "\n",
        "# Calculate and print the number of mislabeled points\n",
        "mislabeled_points = np.sum(np.round(y_test) != np.round(y_pred))\n",
        "print(\"Number of mislabeled points from test data set:\", mislabeled_points)"
      ],
      "metadata": {
        "colab": {
          "base_uri": "https://localhost:8080/"
        },
        "id": "IPsDfgwlYs9D",
        "outputId": "19ce79d9-2a95-49f5-ceb0-cd6ac2bea8ee"
      },
      "execution_count": 8,
      "outputs": [
        {
          "output_type": "stream",
          "name": "stdout",
          "text": [
            "Number of mislabeled points from test data set: 47\n"
          ]
        }
      ]
    },
    {
      "cell_type": "code",
      "source": [
        "\n",
        "\n",
        "# Calculate and print evaluation metrics\n",
        "mae = metrics.mean_absolute_error(y_test, y_pred)\n",
        "mse = metrics.mean_squared_error(y_test, y_pred)\n",
        "rmse = np.sqrt(mse)\n",
        "print(\"Mean Absolute Error:\", mae)\n",
        "print(\"Mean Squared Error:\", mse)\n",
        "print(\"Root Mean Squared Error:\", rmse)"
      ],
      "metadata": {
        "colab": {
          "base_uri": "https://localhost:8080/"
        },
        "id": "ouK8wrzvYw7y",
        "outputId": "3b1fb5c7-02d8-449a-cb50-5ff2c186b2b4"
      },
      "execution_count": 9,
      "outputs": [
        {
          "output_type": "stream",
          "name": "stdout",
          "text": [
            "Mean Absolute Error: 1.512095509182971\n",
            "Mean Squared Error: 3.7976466609670947\n",
            "Root Mean Squared Error: 1.9487551567518928\n"
          ]
        }
      ]
    },
    {
      "cell_type": "code",
      "source": [
        "\n",
        "\n",
        "# Visualization of Actual vs Predicted values\n",
        "plt.figure(figsize=(10, 6))\n",
        "plt.scatter(range(len(y_test)), y_test, color='blue', label='Actual Values')\n",
        "plt.scatter(range(len(y_pred)), y_pred, color='red', label='Predicted Values', marker='x')\n",
        "plt.title('Actual vs Predicted Values')\n",
        "plt.xlabel('Data Point Index')\n",
        "plt.ylabel('Target Variable')\n",
        "plt.legend()\n",
        "plt.show()"
      ],
      "metadata": {
        "id": "gN1Pe25hYzPj",
        "outputId": "1d91b246-95ab-43d5-e29c-18885f12b27f",
        "colab": {
          "base_uri": "https://localhost:8080/",
          "height": 564
        }
      },
      "execution_count": 10,
      "outputs": [
        {
          "output_type": "display_data",
          "data": {
            "text/plain": [
              "<Figure size 1000x600 with 1 Axes>"
            ],
            "image/png": "[encoded data removed]"
          },
          "metadata": {}
        }
      ]
    }
  ]
}